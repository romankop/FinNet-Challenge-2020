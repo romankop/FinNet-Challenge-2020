{
 "cells": [
  {
   "cell_type": "code",
   "execution_count": null,
   "metadata": {},
   "outputs": [],
   "source": [
    "import pandas as pd\n",
    "import matplotlib.pyplot as plt\n",
    "import seaborn as sns\n",
    "from sklearn.preprocessing import LabelEncoder\n",
    "import numpy as np\n",
    "import time\n",
    "import gc"
   ]
  },
  {
   "cell_type": "code",
   "execution_count": null,
   "metadata": {
    "scrolled": true
   },
   "outputs": [],
   "source": [
    "vertices = pd.read_csv(r'\\data\\vertices.csv') ## вершины ребер, то есть юр.лица\n",
    "edges = pd.read_csv(r'\\data\\edges.csv') ## ребра графа, то есть транзакции между юр.лицами"
   ]
  },
  {
   "cell_type": "markdown",
   "metadata": {},
   "source": [
    "####  Сгруппируем информацию о транзациях по разным уровням"
   ]
  },
  {
   "cell_type": "code",
   "execution_count": null,
   "metadata": {},
   "outputs": [],
   "source": [
    "merged = pd.merge(edges, vertices, left_on = 'id_1', right_on = 'id')\\\n",
    "    .rename(columns = {'main_okved' : 'main_okved_1',\n",
    "                       'region_code' : 'region_code_1',\n",
    "                       'company_type' : 'company_type_1'})\n",
    "\n",
    "edges = merged.merge(vertices, left_on = 'id_2', right_on = 'id')\\\n",
    "    .rename(columns = {'main_okved' : 'main_okved_2',\n",
    "                       'region_code' : 'region_code_2',\n",
    "                       'company_type' : 'company_type_2'})\n",
    "\n",
    "edges = edges.drop(['id_x', 'id_y'], axis = 'columns')"
   ]
  },
  {
   "cell_type": "code",
   "execution_count": null,
   "metadata": {},
   "outputs": [],
   "source": [
    "grouped1 = edges.groupby('id_1', axis = 0)\n",
    "grouped2 = edges.groupby('id_2', axis = 0)"
   ]
  },
  {
   "cell_type": "code",
   "execution_count": null,
   "metadata": {
    "scrolled": true
   },
   "outputs": [],
   "source": [
    "id1_keys = grouped1.groups.keys()\n",
    "id2_keys = grouped2.groups.keys()"
   ]
  },
  {
   "cell_type": "code",
   "execution_count": null,
   "metadata": {},
   "outputs": [],
   "source": [
    "%%time\n",
    "all_firms = pd.Series(np.append(edges['id_1'].values, edges['id_2'].values)).sort_values().unique()\n",
    "vertices_features = pd.DataFrame(columns = ['value_mean', 'value_std', 'value_sum', 'n_transactions_mean',\n",
    "       'n_transactions_std', 'n_transactions_sum'])\n",
    "\n",
    "def feature_extraction(x):\n",
    "    global vertices_features\n",
    "\n",
    "    try:\n",
    "        df1 = grouped1.get_group(x)\n",
    "    except:\n",
    "        'Ba-dum-tss'\n",
    "    \n",
    "    try:\n",
    "        df2 = grouped2.get_group(x)\n",
    "    except:\n",
    "        'Ba-dum-tss'\n",
    "    \n",
    "    try:\n",
    "        df = df1.append(df2, ignore_index = True)\n",
    "    except:\n",
    "        try:\n",
    "            df = df1\n",
    "        except:\n",
    "            df = df2\n",
    "    \n",
    "    vertices_features = vertices_features.append(pd.DataFrame({'id' : [x],\n",
    "                          'value_mean' :[df['value'].mean()],\n",
    "                          'value_std' :[df['value'].std()],\n",
    "                          'value_sum' :[df['value'].sum()],\n",
    "                          'n_transactions_mean' : [df['n_transactions'].mean()],\n",
    "                          'n_transactions_std' : [df['n_transactions'].std()],\n",
    "                          'n_transactions_sum' : [df['n_transactions'].sum()]}))"
   ]
  },
  {
   "cell_type": "code",
   "execution_count": null,
   "metadata": {
    "scrolled": true
   },
   "outputs": [],
   "source": [
    "map(feature_extraction, all_firms[1018395:])"
   ]
  },
  {
   "cell_type": "code",
   "execution_count": null,
   "metadata": {},
   "outputs": [],
   "source": [
    "vertices.merge(vertices_features.drop_duplicates()).to_csv('vertices_features.csv', index = False)"
   ]
  }
 ],
 "metadata": {
  "kernelspec": {
   "display_name": "Python 3",
   "language": "python",
   "name": "python3"
  },
  "language_info": {
   "codemirror_mode": {
    "name": "ipython",
    "version": 3
   },
   "file_extension": ".py",
   "mimetype": "text/x-python",
   "name": "python",
   "nbconvert_exporter": "python",
   "pygments_lexer": "ipython3",
   "version": "3.7.1"
  },
  "latex_envs": {
   "LaTeX_envs_menu_present": true,
   "autoclose": false,
   "autocomplete": true,
   "bibliofile": "biblio.bib",
   "cite_by": "apalike",
   "current_citInitial": 1,
   "eqLabelWithNumbers": true,
   "eqNumInitial": 1,
   "hotkeys": {
    "equation": "Ctrl-E",
    "itemize": "Ctrl-I"
   },
   "labels_anchors": false,
   "latex_user_defs": false,
   "report_style_numbering": false,
   "user_envs_cfg": false
  }
 },
 "nbformat": 4,
 "nbformat_minor": 4
}
