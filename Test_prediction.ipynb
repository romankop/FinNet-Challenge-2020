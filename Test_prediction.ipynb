{
 "cells": [
  {
   "cell_type": "code",
   "execution_count": 1,
   "metadata": {},
   "outputs": [],
   "source": [
    "import pandas as pd\n",
    "from sklearn.preprocessing import LabelEncoder\n",
    "import igraph\n",
    "import time\n",
    "import gc\n",
    "from os import path\n",
    "import ipython_memory_usage\n",
    "import numpy as np\n",
    "from scipy.sparse import csr_matrix, lil_matrix"
   ]
  },
  {
   "cell_type": "code",
   "execution_count": 2,
   "metadata": {},
   "outputs": [
    {
     "data": {
      "text/plain": [
       "'memory profile enabled'"
      ]
     },
     "execution_count": 2,
     "metadata": {},
     "output_type": "execute_result"
    },
    {
     "name": "stdout",
     "output_type": "stream",
     "text": [
      "In [2] used 0.1094 MiB RAM in 0.15s, peaked 0.00 MiB above current, total RAM usage 108.02 MiB\n"
     ]
    }
   ],
   "source": [
    "%ipython_memory_usage_start"
   ]
  },
  {
   "cell_type": "code",
   "execution_count": 3,
   "metadata": {},
   "outputs": [
    {
     "name": "stdout",
     "output_type": "stream",
     "text": [
      "In [3] used 190.8789 MiB RAM in 2.10s, peaked 81.16 MiB above current, total RAM usage 298.90 MiB\n"
     ]
    }
   ],
   "source": [
    "vertices = pd.read_csv('data\\\\vertices.csv') ## вершины ребер, то есть юр.лица\n",
    "edges = pd.read_csv('data\\\\edges.csv') ## ребра графа, то есть транзакции между юр.лицами\n",
    "test = pd.read_csv('data\\\\ids.csv')#.drop('rec_num_of_edges', axis = 'columns')"
   ]
  },
  {
   "cell_type": "code",
   "execution_count": 4,
   "metadata": {},
   "outputs": [
    {
     "name": "stdout",
     "output_type": "stream",
     "text": [
      "In [4] used 42.0820 MiB RAM in 0.65s, peaked 108.52 MiB above current, total RAM usage 340.98 MiB\n"
     ]
    }
   ],
   "source": [
    "rec_num_of_edges = test.merge(vertices, how = 'outer')[['id', 'rec_num_of_edges']]\n",
    "rec_num_of_edges = rec_num_of_edges.fillna(np.inf)\n",
    "rec_num_of_edges['cur_num_of_edges'] = 0\n",
    "rec_num_of_edges['id'] = rec_num_of_edges['id'].astype(int)"
   ]
  },
  {
   "cell_type": "code",
   "execution_count": 5,
   "metadata": {},
   "outputs": [
    {
     "name": "stdout",
     "output_type": "stream",
     "text": [
      "In [5] used 0.0273 MiB RAM in 0.11s, peaked 0.00 MiB above current, total RAM usage 341.01 MiB\n"
     ]
    }
   ],
   "source": [
    "test = test.drop('rec_num_of_edges', axis = 'columns')"
   ]
  },
  {
   "cell_type": "code",
   "execution_count": 6,
   "metadata": {},
   "outputs": [
    {
     "name": "stdout",
     "output_type": "stream",
     "text": [
      "In [6] used -5.0781 MiB RAM in 0.33s, peaked 16.75 MiB above current, total RAM usage 335.93 MiB\n"
     ]
    }
   ],
   "source": [
    "my_encoder = LabelEncoder()\n",
    "vertices['company_type']= my_encoder.fit_transform(vertices['company_type'])"
   ]
  },
  {
   "cell_type": "code",
   "execution_count": 7,
   "metadata": {},
   "outputs": [
    {
     "name": "stdout",
     "output_type": "stream",
     "text": [
      "In [7] used 76.1484 MiB RAM in 0.23s, peaked 0.00 MiB above current, total RAM usage 412.08 MiB\n"
     ]
    }
   ],
   "source": [
    "vertices['is_true'] = 0\n",
    "vert_id_istrue = vertices[['id', 'is_true']]\n",
    "vert_no_true = vertices.drop(['is_true'], axis = 'columns')"
   ]
  },
  {
   "cell_type": "code",
   "execution_count": 17,
   "metadata": {},
   "outputs": [
    {
     "name": "stdout",
     "output_type": "stream",
     "text": [
      "In [17] used 2.3906 MiB RAM in 0.13s, peaked 0.00 MiB above current, total RAM usage 2939.48 MiB\n"
     ]
    }
   ],
   "source": [
    "from lightgbm import LGBMClassifier\n",
    "import catboost as cat\n",
    "from catboost import CatBoostClassifier\n",
    "from sklearn.linear_model import LogisticRegression\n",
    "from sklearn.neighbors import KNeighborsClassifier\n",
    "from sklearn.naive_bayes import GaussianNB\n",
    "from sklearn.neighbors import KNeighborsClassifier\n",
    "from sklearn.tree import DecisionTreeClassifier\n",
    "from sklearn.ensemble import VotingClassifier"
   ]
  },
  {
   "cell_type": "code",
   "execution_count": 9,
   "metadata": {},
   "outputs": [
    {
     "name": "stdout",
     "output_type": "stream",
     "text": [
      "In [9] used 0.0234 MiB RAM in 0.10s, peaked 0.00 MiB above current, total RAM usage 427.29 MiB\n"
     ]
    }
   ],
   "source": [
    "def selecting_top100(predicted_prob):\n",
    "    predicted_edges = []\n",
    "    \n",
    "    for edge in predicted_prob:\n",
    "        if (edge not in predicted_edges) &\\\n",
    "        (tuple([edge[place] for place in [1,0]]) not in predicted_edges) &\\\n",
    "        (len(predicted_edges) <= 99_999):\n",
    "            predicted_edges.append(edge)\n",
    "            \n",
    "        elif (len(predicted_edges) > 99_999):\n",
    "            break\n",
    "    \n",
    "    predicted_edges = pd.DataFrame(predicted_edges, columns = ['id_1', 'id_2'])\n",
    "    return(predicted_edges)"
   ]
  },
  {
   "cell_type": "code",
   "execution_count": 10,
   "metadata": {},
   "outputs": [
    {
     "name": "stdout",
     "output_type": "stream",
     "text": [
      "In [10] used 0.1992 MiB RAM in 0.10s, peaked 0.00 MiB above current, total RAM usage 427.49 MiB\n"
     ]
    }
   ],
   "source": [
    "def selecting_top100_limited(predicted_prob):\n",
    "    global rec_num_of_edges, edge\n",
    "    predicted_edges = []\n",
    "    \n",
    "    for edge in predicted_prob:\n",
    "        if (edge not in predicted_edges) &\\\n",
    "        (tuple([edge[place] for place in [1,0]]) not in predicted_edges) &\\\n",
    "        (len(predicted_edges)<= 99_999) &\\\n",
    "        (rec_num_of_edges[rec_num_of_edges['id'] == edge[0]]['rec_num_of_edges'] > rec_num_of_edges[rec_num_of_edges['id'] == edge[0]]['cur_num_of_edges']).values[0] &\\\n",
    "        (rec_num_of_edges[rec_num_of_edges['id'] == edge[1]]['rec_num_of_edges'] > rec_num_of_edges[rec_num_of_edges['id'] == edge[1]]['cur_num_of_edges']).values[0]:\n",
    "            predicted_edges.append(edge)\n",
    "            rec_num_of_edges['cur_num_of_edges'] = np.where(rec_num_of_edges['id'] == edge[0], \n",
    "                                                            rec_num_of_edges['cur_num_of_edges'] + 1, \n",
    "                                                            rec_num_of_edges['cur_num_of_edges'])\n",
    "            rec_num_of_edges['cur_num_of_edges'] = np.where(rec_num_of_edges['id'] == edge[1], \n",
    "                                                            rec_num_of_edges['cur_num_of_edges'] + 1, \n",
    "                                                            rec_num_of_edges['cur_num_of_edges'])\n",
    "        elif (len(predicted_edges) > 99_999):\n",
    "            break\n",
    "            \n",
    "    predicted_edges = pd.DataFrame(predicted_edges, columns = ['id_1', 'id_2'])\n",
    "    return(predicted_edges)"
   ]
  },
  {
   "cell_type": "code",
   "execution_count": 48,
   "metadata": {
    "scrolled": true
   },
   "outputs": [
    {
     "name": "stdout",
     "output_type": "stream",
     "text": [
      "In [48] used 0.0000 MiB RAM in 0.10s, peaked 0.00 MiB above current, total RAM usage 1196.82 MiB\n"
     ]
    }
   ],
   "source": [
    "def predicting(model, model_name, cat_features = True):\n",
    "    global X, predicted_edges, firm, temp, predicted_prob\n",
    "    predicted_prob = pd.DataFrame()\n",
    "    \n",
    "    if type(model).__name__ == 'CatBoostClassifier':\n",
    "        print('Check catfeatures')\n",
    "    \n",
    "    for firm in test['id']:\n",
    "        start = time.time()\n",
    "\n",
    "        temp_1 = edges[edges['id_1'] == firm]['id_2'].rename('id')\n",
    "        temp_2 = edges[edges['id_2'] == firm]['id_1'].rename('id')\n",
    "        temp = pd.DataFrame(temp_1.append(temp_2, ignore_index = True))\n",
    "        temp['is_true'] = 1\n",
    "        temp = temp.drop_duplicates()\n",
    "\n",
    "        temp = temp.append(vert_id_istrue, ignore_index = True)\n",
    "        temp = temp.drop_duplicates(subset = ['id'])\n",
    "        temp = temp.merge(vert_no_true, on = ['id'], how = 'inner')\n",
    "\n",
    "        X = temp.drop(['is_true', 'id'], axis = 'columns')\n",
    "        \n",
    "        if cat_features == True:\n",
    "            X['main_okved'] = X['main_okved'].astype(str)\n",
    "            \n",
    "        y = temp['is_true']\n",
    "        model_trained = model.fit(X, y)\n",
    "        proba = pd.DataFrame(model_trained.predict_proba(X))\n",
    "\n",
    "        proba['id_1'] = firm\n",
    "        proba['id_2'] = temp['id'].values\n",
    "        proba['is_true'] = y.values\n",
    "        predicted_prob = predicted_prob.append(proba)\n",
    "\n",
    "        del temp_1, temp_2, temp, X, y\n",
    "        gc.collect()\n",
    "        \n",
    "    predicted_prob = predicted_prob[predicted_prob['is_true'] != 1]\n",
    "    \n",
    "    ## Сортируем вершины по вероятности правдивости\n",
    "    )\n",
    "    predicted_prob = predicted_prob.sort_values([1], ascending = False)\n",
    "    \n",
    "    predicted_prob = predicted_prob.sort_values([1], ascending = False)[['id_1', 'id_2']]\n",
    "\n",
    "    predicted_prob = [edge[1:] for edge in predicted_prob.iloc[:10_000_000,:].to_records().tolist()]\n",
    "    \n",
    "    predicted_edges = selecting_top100(predicted_prob =  predicted_prob)\n",
    "\n",
    "    predicted_edges.to_csv('{}.csv'.format(model_name), index = False)"
   ]
  },
  {
   "cell_type": "code",
   "execution_count": 53,
   "metadata": {},
   "outputs": [
    {
     "data": {
      "text/html": [
       "<div>\n",
       "<style scoped>\n",
       "    .dataframe tbody tr th:only-of-type {\n",
       "        vertical-align: middle;\n",
       "    }\n",
       "\n",
       "    .dataframe tbody tr th {\n",
       "        vertical-align: top;\n",
       "    }\n",
       "\n",
       "    .dataframe thead th {\n",
       "        text-align: right;\n",
       "    }\n",
       "</style>\n",
       "<table border=\"1\" class=\"dataframe\">\n",
       "  <thead>\n",
       "    <tr style=\"text-align: right;\">\n",
       "      <th></th>\n",
       "      <th>main_okved</th>\n",
       "      <th>region_code</th>\n",
       "      <th>company_type</th>\n",
       "    </tr>\n",
       "  </thead>\n",
       "  <tbody>\n",
       "    <tr>\n",
       "      <th>0</th>\n",
       "      <td>49.32</td>\n",
       "      <td>77</td>\n",
       "      <td>3</td>\n",
       "    </tr>\n",
       "    <tr>\n",
       "      <th>1</th>\n",
       "      <td>63.99</td>\n",
       "      <td>66</td>\n",
       "      <td>3</td>\n",
       "    </tr>\n",
       "    <tr>\n",
       "      <th>2</th>\n",
       "      <td>49.32</td>\n",
       "      <td>77</td>\n",
       "      <td>2</td>\n",
       "    </tr>\n",
       "    <tr>\n",
       "      <th>3</th>\n",
       "      <td>49.32</td>\n",
       "      <td>32</td>\n",
       "      <td>3</td>\n",
       "    </tr>\n",
       "    <tr>\n",
       "      <th>4</th>\n",
       "      <td>62.09</td>\n",
       "      <td>23</td>\n",
       "      <td>2</td>\n",
       "    </tr>\n",
       "    <tr>\n",
       "      <th>...</th>\n",
       "      <td>...</td>\n",
       "      <td>...</td>\n",
       "      <td>...</td>\n",
       "    </tr>\n",
       "    <tr>\n",
       "      <th>1534744</th>\n",
       "      <td>63.99</td>\n",
       "      <td>77</td>\n",
       "      <td>2</td>\n",
       "    </tr>\n",
       "    <tr>\n",
       "      <th>1534745</th>\n",
       "      <td>47.19</td>\n",
       "      <td>66</td>\n",
       "      <td>2</td>\n",
       "    </tr>\n",
       "    <tr>\n",
       "      <th>1534746</th>\n",
       "      <td>41.20</td>\n",
       "      <td>77</td>\n",
       "      <td>2</td>\n",
       "    </tr>\n",
       "    <tr>\n",
       "      <th>1534747</th>\n",
       "      <td>74.20</td>\n",
       "      <td>33</td>\n",
       "      <td>2</td>\n",
       "    </tr>\n",
       "    <tr>\n",
       "      <th>1534748</th>\n",
       "      <td>68.20</td>\n",
       "      <td>66</td>\n",
       "      <td>2</td>\n",
       "    </tr>\n",
       "  </tbody>\n",
       "</table>\n",
       "<p>1534749 rows × 3 columns</p>\n",
       "</div>"
      ],
      "text/plain": [
       "         main_okved  region_code  company_type\n",
       "0             49.32           77             3\n",
       "1             63.99           66             3\n",
       "2             49.32           77             2\n",
       "3             49.32           32             3\n",
       "4             62.09           23             2\n",
       "...             ...          ...           ...\n",
       "1534744       63.99           77             2\n",
       "1534745       47.19           66             2\n",
       "1534746       41.20           77             2\n",
       "1534747       74.20           33             2\n",
       "1534748       68.20           66             2\n",
       "\n",
       "[1534749 rows x 3 columns]"
      ]
     },
     "execution_count": 53,
     "metadata": {},
     "output_type": "execute_result"
    },
    {
     "name": "stdout",
     "output_type": "stream",
     "text": [
      "In [53] used 0.0000 MiB RAM in 0.11s, peaked 0.00 MiB above current, total RAM usage 525.04 MiB\n"
     ]
    }
   ],
   "source": [
    "display(X)"
   ]
  },
  {
   "cell_type": "code",
   "execution_count": null,
   "metadata": {
    "scrolled": true
   },
   "outputs": [],
   "source": [
    "model = VotingClassifier(\n",
    "    estimators = [('0', CatBoostClassifier(n_estimators = 100, random_state = 42, verbose = False)),\n",
    "                  ('1', CatBoostClassifier(n_estimators = 100, random_state = 322, verbose = False)),\n",
    "                  ('2', CatBoostClassifier(n_estimators = 100, random_state = 3443506946, verbose = False)),\n",
    "                  ('3', CatBoostClassifier(n_estimators = 100, random_state = 69, verbose = False)),\n",
    "                  ('4', CatBoostClassifier(n_estimators = 100, random_state = 1, verbose = False)),\n",
    "                  ('5', CatBoostClassifier(n_estimators = 100, random_state = 22, verbose = False)),\n",
    "        \n",
    "    ],\n",
    "    voting = 'soft',\n",
    ")\n",
    "model_name = 'VotingClassifier Catboost. n_estimators = 100. CPU. Full graph. As in baseline'\n",
    "predicting(model,  model_name, cat_features = False)"
   ]
  }
 ],
 "metadata": {
  "kernelspec": {
   "display_name": "Python 3",
   "language": "python",
   "name": "python3"
  },
  "language_info": {
   "codemirror_mode": {
    "name": "ipython",
    "version": 3
   },
   "file_extension": ".py",
   "mimetype": "text/x-python",
   "name": "python",
   "nbconvert_exporter": "python",
   "pygments_lexer": "ipython3",
   "version": "3.7.1"
  },
  "latex_envs": {
   "LaTeX_envs_menu_present": true,
   "autoclose": false,
   "autocomplete": true,
   "bibliofile": "biblio.bib",
   "cite_by": "apalike",
   "current_citInitial": 1,
   "eqLabelWithNumbers": true,
   "eqNumInitial": 1,
   "hotkeys": {
    "equation": "Ctrl-E",
    "itemize": "Ctrl-I"
   },
   "labels_anchors": false,
   "latex_user_defs": false,
   "report_style_numbering": false,
   "user_envs_cfg": false
  }
 },
 "nbformat": 4,
 "nbformat_minor": 4
}
